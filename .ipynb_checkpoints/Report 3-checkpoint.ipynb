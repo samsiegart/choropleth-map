{
 "cells": [
  {
   "cell_type": "markdown",
   "metadata": {
    "deletable": true,
    "editable": true
   },
   "source": [
    "# Report 3"
   ]
  },
  {
   "cell_type": "markdown",
   "metadata": {
    "deletable": true,
    "editable": true
   },
   "source": [
    "## Introduction\n",
    "\n",
    "This week's report was focused on generating choropleth maps, that is, plots that use shading, color, or other properties to indicate values with respect to some metrics in different geographical areas. An example of a choropleth map commonly seen could be an election map with red and blue shades indicating votes across the country, as seen below (source: https://upload.wikimedia.org/wikipedia/commons/4/49/2016_Nationwide_US_presidential_county_map_shaded_by_vote_share.svg) <img src='https://upload.wikimedia.org/wikipedia/commons/4/49/2016_Nationwide_US_presidential_county_map_shaded_by_vote_share.svg'>"
   ]
  },
  {
   "cell_type": "markdown",
   "metadata": {
    "collapsed": true,
    "deletable": true,
    "editable": true
   },
   "source": [
    "However, the point of this exercise was for us to generate our own. The first thing I needed to do was to figure out exactly what data I wanted to represent."
   ]
  },
  {
   "cell_type": "markdown",
   "metadata": {
    "deletable": true,
    "editable": true
   },
   "source": [
    "## Exploring Data"
   ]
  },
  {
   "cell_type": "markdown",
   "metadata": {
    "deletable": true,
    "editable": true
   },
   "source": [
    "After googling around for datasets to use, I eventually stumbled upon the government census website: https://www.census.gov/support/USACdataDownloads.html.\n",
    "\n",
    "It seemed unlikely that I could find a more thorough and well organized source of data anywhere else, so I began exploring what was available. The data was split into different categories like health, income and agriculture. Eventaully I decided to specifically focus on the data associated with age.\n",
    "\n",
    "I downloaded the folder containing the age-specific data and found 4 excel files. Each file contained a number of columns with each row corresponding to a county in the U.S. as shown here:\n",
    "\n",
    "<img src=\"data_screenshot.png\"/>\n",
    "\n",
    "Columns such as \"Areaname\" were straighfoward, and \"STCOU\" was evidently enough a FIPS code for each area which would be import later on. However, I needed to do more digging to find out what the other column names such as \"AGE050180D\" meant.\n",
    "\n",
    "I eventually found a file called \"Mastdata\" which described every single column name from every possible data collection. Upon inspection it looked like so:\n",
    "\n",
    "<img src=\"mastscreenshot.png\"/>\n",
    "\n",
    "I just needed the first two columns which had the code and corresponding description to find out what the columns in my other file meant. With these two files I was ready to get to work."
   ]
  },
  {
   "cell_type": "markdown",
   "metadata": {
    "deletable": true,
    "editable": true
   },
   "source": [
    "## Loading Data\n",
    "\n",
    "I used the pandas library in Python to do all of the data processing. The first step was to save these excel files as CSV (comma seperated values) files so that I could load them into a pandas dataframe. I also imported `math` and `etree` for later use:"
   ]
  },
  {
   "cell_type": "code",
   "execution_count": 3,
   "metadata": {
    "collapsed": true,
    "deletable": true,
    "editable": true
   },
   "outputs": [],
   "source": [
    "import pandas\n",
    "import math\n",
    "from lxml import etree\n",
    "\n",
    "df = pandas.read_csv(\"AGE012.csv\")\n",
    "mast = pandas.read_csv('mastdata.csv')"
   ]
  },
  {
   "cell_type": "markdown",
   "metadata": {
    "deletable": true,
    "editable": true
   },
   "source": [
    "The resulting dataframe for the age data resembles what appears in the spreadsheet:\n",
    "\n",
    "<img src=\"df.png\"/>\n",
    "\n",
    "And likewise for the descriptions:\n",
    "\n",
    "<img src=\"mastdf.png\"/>"
   ]
  },
  {
   "cell_type": "markdown",
   "metadata": {
    "deletable": true,
    "editable": true
   },
   "source": [
    "## Interpretation\n",
    "\n",
    "Now, my next step was to figure out, using the descriptions, what the data in my csv file was actually describing. I used a `dict` mapping each coded column name to a description and populated it with the data from \"Mastdata\", where the first column was the code and the second column was the corresponding description. I named the `dict` \"codes_to_names\":"
   ]
  },
  {
   "cell_type": "code",
   "execution_count": 4,
   "metadata": {
    "collapsed": true,
    "deletable": true,
    "editable": true
   },
   "outputs": [],
   "source": [
    "codes_to_names = {}\n",
    "for item in mast.iterrows():\n",
    "    codes_to_names[item[1][0]] = item[1][1]"
   ]
  },
  {
   "cell_type": "markdown",
   "metadata": {
    "deletable": true,
    "editable": true
   },
   "source": [
    "I could then use this `dict` to go through and look up the descriptions of all my columns. Some of them didn't seem to have an available description, but plenty did:"
   ]
  },
  {
   "cell_type": "code",
   "execution_count": 5,
   "metadata": {
    "collapsed": false,
    "deletable": true,
    "editable": true
   },
   "outputs": [
    {
     "name": "stdout",
     "output_type": "stream",
     "text": [
      "Areaname None\n",
      "STCOU None\n",
      "AGE040205F None\n",
      "AGE040205D Resident population total (July 1 - estimate) 2005\n",
      "AGE040205N1 None\n",
      "AGE040205N2 None\n",
      "AGE040206F None\n",
      "AGE040206D Resident population total (July 1 - estimate) 2006\n",
      "AGE040206N1 None\n",
      "AGE040206N2 None\n",
      "AGE040207F None\n",
      "AGE040207D Resident population total (July 1 - estimate) 2007\n",
      "AGE040207N1 None\n",
      "AGE040207N2 None\n",
      "AGE040208F None\n",
      "AGE040208D Resident population total (July 1 - estimate) 2008\n",
      "AGE040208N1 None\n",
      "AGE040208N2 None\n",
      "AGE040209F None\n",
      "AGE040209D Resident population total (July 1 - estimate) 2009\n",
      "AGE040209N1 None\n",
      "AGE040209N2 None\n",
      "AGE050180F None\n",
      "AGE050180D Resident population: Median age (complete count) 1980\n",
      "AGE050180N1 None\n",
      "AGE050180N2 None\n",
      "AGE050190F None\n",
      "AGE050190D Resident population: Median age (complete count) 1990\n",
      "AGE050190N1 None\n",
      "AGE050190N2 None\n",
      "AGE050200F None\n",
      "AGE050200D Resident population: Median age (April 1 - complete count) 2000\n",
      "AGE050200N1 None\n",
      "AGE050200N2 None\n",
      "AGE050210F None\n",
      "AGE050210D Resident population: Median age (April 1 - complete count) 2010\n",
      "AGE050210N1 None\n",
      "AGE050210N2 None\n",
      "AGE110180F None\n",
      "AGE110180D Resident population under 5 years (complete count) 1980\n",
      "AGE110180N1 None\n",
      "AGE110180N2 None\n"
     ]
    }
   ],
   "source": [
    "for col in df.columns:\n",
    "    print(col, codes_to_names.get(col))"
   ]
  },
  {
   "cell_type": "markdown",
   "metadata": {
    "deletable": true,
    "editable": true
   },
   "source": [
    "I noticed that there were columns giving the median age for each county for the years 1980, 1990, 2000, and 2010. I decided to work with those columns and see what kind of results I would get. I first manually put those codes into my own `dict` so I could use them later:"
   ]
  },
  {
   "cell_type": "code",
   "execution_count": 6,
   "metadata": {
    "collapsed": true,
    "deletable": true,
    "editable": true
   },
   "outputs": [],
   "source": [
    "median_age_code = {\n",
    "    '1980': 'AGE050180D',\n",
    "    '1990': 'AGE050190D',\n",
    "    '2000': 'AGE050200D',\n",
    "    '2010': 'AGE050210D'\n",
    "}"
   ]
  },
  {
   "cell_type": "markdown",
   "metadata": {
    "deletable": true,
    "editable": true
   },
   "source": [
    "## Processing\n",
    "\n",
    "Since I had the in these columns the corresponding median age for every county in the US for a respective year, I wanted to be able store this more conveniently in a `dict` so that I could do a simple lookup by the county code. I wrote a function to do this which takes as input a year and returns the corresponding dict for that year (making use of `median_age_code`). One small adjustment I made was prepending 0's to the FIPS codes to ensure they were all 5 digits, as leading 0's seemed to have been lost in the CSV file. I would need this uniformity later on when working with my map. I also kept track of the max and min medians for all counties to keep in mind as bounds when visually representing the data:"
   ]
  },
  {
   "cell_type": "code",
   "execution_count": 10,
   "metadata": {
    "collapsed": true,
    "deletable": true,
    "editable": true
   },
   "outputs": [],
   "source": [
    "def load_median_ages(year):    \n",
    "    median_ages = {}\n",
    "    code = median_age_code[year]\n",
    "    minv = maxv = 30\n",
    "    for item in df.iterrows():\n",
    "        fips = str(item[1]['STCOU'])\n",
    "        if len(fips) < 5:\n",
    "            fips = '0'*(5-len(fips)) + fips\n",
    "        median_ages[fips] = item[1][code]\n",
    "        if item[1][code] < minv:\n",
    "            minv = item[1][code]\n",
    "        if item[1][code] > maxv:\n",
    "            maxv = item[1][code]\n",
    "    #print(minv,maxv)\n",
    "    return median_ages"
   ]
  },
  {
   "cell_type": "markdown",
   "metadata": {
    "deletable": true,
    "editable": true
   },
   "source": [
    "## Visualizing with SVG\n",
    "Now that I had all the counties and their corresponding median ages stored in a simple `dict`, I just needed to visually represent the data. This could seem like a daunting task to someone like myself with little experience in design or graphics, but it is actually pretty straightfoward with the right building blocks.\n",
    "\n",
    "SVG, which stands for scalable vector graphics, is a markup language that makes it easy to programatically draw graphics that can be rendered in the browser. SVG can be created/modified with code and also exported from a graphics program such as Inkscape.\n",
    "\n",
    "To visualize my data, I of course needed a map of the United States which could easily be found online in SVG format:\n",
    "\n",
    "<img src=\"USA_Counties_with_FIPS_and_names.svg\"/>\n",
    "\n",
    "Inspecting the code for this SVG file, it basically consists of a long list of `path` elements for each county:\n",
    "\n",
    "<img src=\"svg_code.png\"/>\n",
    "\n",
    "That might look like a lot, but there are only two small things we care about: the `style` and the `id` attributes. Upon inspection, the `id` attribute actually corresponds to the FIPS code for the county. This gives us a way of mapping our data in the Python program to a node in the SVG, excellent! The style attribute contains a setting called \"fill\" which is set to a default of \"#d0d0d0\", the hex color code that gives every county a grey backgound.\n",
    "\n",
    "All else that is needed to represent the data is look up the median age based on each FIPS code with our `dict` and tweak the corresponding \"fill\" color to represent it somehow. After modifying the SVG in this way, the resulting image will be a legitimate choropleth map instead of the current all-grey one."
   ]
  },
  {
   "cell_type": "markdown",
   "metadata": {
    "deletable": true,
    "editable": true
   },
   "source": [
    "## Modifying the Map\n",
    "\n",
    "I decided to make green represent younger populations and red represent older populations, leaving grey in the middle to represent the overall median age (which between all 4 years ended up being about 34 years).\n",
    "\n",
    "I wrote a function to load the plain SVG (with an added color key on the side according to my above description), iterate through all the nodes for each county, and modify them to be the appropriate color based on their median ages. I also needed to save the map to a new file in a separate function called `write_map`:"
   ]
  },
  {
   "cell_type": "code",
   "execution_count": 13,
   "metadata": {
    "collapsed": true,
    "deletable": true,
    "editable": true
   },
   "outputs": [],
   "source": [
    "overall_avg = 33.85\n",
    "def gen_map(median_ages):\n",
    "    with open('drawing.svg') as f:\n",
    "        doc = etree.fromstring(f.read().encode('utf-8'))\n",
    "    for item in doc[3]:\n",
    "        if 'style' in item.attrib and 'fill:#d0d0d0' in item.attrib['style'] and item.attrib['id'] in median_ages:\n",
    "            avg_age = median_ages[item.attrib['id']]\n",
    "            r = 'd0'\n",
    "            g = 'd0'\n",
    "            b = 'd0'\n",
    "            if avg_age - overall_avg > 1:\n",
    "                r = 'f0'\n",
    "                magnitude = math.ceil(min(6,0.5*(avg_age - overall_avg)))\n",
    "                shadow = str(hex(13 - magnitude))[2:]\n",
    "                g = shadow + g[1:]\n",
    "                b = shadow + b[1:]\n",
    "            elif overall_avg - avg_age > 1:\n",
    "                g = 'f0'\n",
    "                magnitude = math.ceil(min(13,0.5*(overall_avg - avg_age)))\n",
    "                shadow = str(hex(13 - magnitude))[2:]\n",
    "                r = shadow + r[1:]\n",
    "                b = shadow + b[1:]\n",
    "            item.attrib['style'] = item.attrib['style'].replace('fill:#d0d0d0', 'fill:#'+r+g+b)\n",
    "    return etree.tostring(doc)\n",
    "\n",
    "def write_map(year, age_map):\n",
    "    with open('median_' + year + '.svg','w') as f:\n",
    "        #print(\"Writing\", f.name)\n",
    "        f.write(age_map.decode('utf-8'))"
   ]
  },
  {
   "cell_type": "markdown",
   "metadata": {
    "deletable": true,
    "editable": true
   },
   "source": [
    "Now we can use our functions to generate the maps for each year of data:"
   ]
  },
  {
   "cell_type": "code",
   "execution_count": 14,
   "metadata": {
    "collapsed": false,
    "deletable": true,
    "editable": true
   },
   "outputs": [],
   "source": [
    "for year in median_age_code:\n",
    "    median_ages = load_median_ages(year)\n",
    "    age_map = gen_map(median_ages)\n",
    "    write_map(year, age_map)"
   ]
  },
  {
   "cell_type": "markdown",
   "metadata": {
    "deletable": true,
    "editable": true
   },
   "source": [
    "## Results\n",
    "\n",
    "### Median Age (Years) - 1980\n",
    "\n",
    "<img src=\"1980_ss.png\"/>\n",
    "\n",
    "### Median Age (Years) - 1990\n",
    "\n",
    "<img src=\"1990_ss.png\"/>\n",
    "\n",
    "### Median Age (Years) - 2000\n",
    "\n",
    "<img src=\"2000_ss.png\"/>\n",
    "\n",
    "### Median Age (Years) - 2010\n",
    "\n",
    "<img src=\"2010_ss.png\"/>"
   ]
  },
  {
   "cell_type": "markdown",
   "metadata": {
    "deletable": true,
    "editable": true
   },
   "source": [
    "## Conclusion\n",
    "\n",
    "There is a pretty obvious trend here: America is getting older, with few exceptions.\n",
    "\n",
    "It would be interesting to compare this to the rest of the World, and maybe juxtapose this with other health or income related data sets to see any possible correlations. For the sake of this report I will leave it at this though."
   ]
  },
  {
   "cell_type": "markdown",
   "metadata": {
    "deletable": true,
    "editable": true
   },
   "source": [
    "## Code"
   ]
  },
  {
   "cell_type": "code",
   "execution_count": 2,
   "metadata": {
    "collapsed": false,
    "deletable": true,
    "editable": true
   },
   "outputs": [
    {
     "name": "stdout",
     "output_type": "stream",
     "text": [
      "Areaname None\n",
      "STCOU None\n",
      "AGE040205F None\n",
      "AGE040205D Resident population total (July 1 - estimate) 2005\n",
      "AGE040205N1 None\n",
      "AGE040205N2 None\n",
      "AGE040206F None\n",
      "AGE040206D Resident population total (July 1 - estimate) 2006\n",
      "AGE040206N1 None\n",
      "AGE040206N2 None\n",
      "AGE040207F None\n",
      "AGE040207D Resident population total (July 1 - estimate) 2007\n",
      "AGE040207N1 None\n",
      "AGE040207N2 None\n",
      "AGE040208F None\n",
      "AGE040208D Resident population total (July 1 - estimate) 2008\n",
      "AGE040208N1 None\n",
      "AGE040208N2 None\n",
      "AGE040209F None\n",
      "AGE040209D Resident population total (July 1 - estimate) 2009\n",
      "AGE040209N1 None\n",
      "AGE040209N2 None\n",
      "AGE050180F None\n",
      "AGE050180D Resident population: Median age (complete count) 1980\n",
      "AGE050180N1 None\n",
      "AGE050180N2 None\n",
      "AGE050190F None\n",
      "AGE050190D Resident population: Median age (complete count) 1990\n",
      "AGE050190N1 None\n",
      "AGE050190N2 None\n",
      "AGE050200F None\n",
      "AGE050200D Resident population: Median age (April 1 - complete count) 2000\n",
      "AGE050200N1 None\n",
      "AGE050200N2 None\n",
      "AGE050210F None\n",
      "AGE050210D Resident population: Median age (April 1 - complete count) 2010\n",
      "AGE050210N1 None\n",
      "AGE050210N2 None\n",
      "AGE110180F None\n",
      "AGE110180D Resident population under 5 years (complete count) 1980\n",
      "AGE110180N1 None\n",
      "AGE110180N2 None\n",
      "0.0 62.7\n",
      "Writing median_2010.svg\n",
      "0.0 58.6\n",
      "Writing median_2000.svg\n",
      "0.0 57.4\n",
      "Writing median_1980.svg\n",
      "0.0 61.1\n",
      "Writing median_1990.svg\n"
     ]
    }
   ],
   "source": [
    "import pandas\n",
    "import math\n",
    "from lxml import etree\n",
    "\n",
    "df = pandas.read_csv(\"AGE012.csv\")\n",
    "mast = pandas.read_csv('mastdata.csv')\n",
    "\n",
    "codes_to_names = {}\n",
    "for item in mast.iterrows():\n",
    "    codes_to_names[item[1][0]] = item[1][1]\n",
    "    \n",
    "for col in df.columns:\n",
    "    print(col, codes_to_names.get(col))\n",
    "    \n",
    "median_age_code = {\n",
    "    '1980': 'AGE050180D',\n",
    "    '1990': 'AGE050190D',\n",
    "    '2000': 'AGE050200D',\n",
    "    '2010': 'AGE050210D'\n",
    "}\n",
    "\n",
    "def load_median_ages(year):    \n",
    "    median_ages = {}\n",
    "    code = median_age_code[year]\n",
    "    i = 0\n",
    "    minv = maxv = 30\n",
    "    for item in df.iterrows():\n",
    "        fips = str(item[1]['STCOU'])\n",
    "        if len(fips) < 5:\n",
    "            fips = '0'*(5-len(fips)) + fips\n",
    "        median_ages[fips] = item[1][code]\n",
    "        if item[1][code] < minv:\n",
    "            minv = item[1][code]\n",
    "        if item[1][code] > maxv:\n",
    "            maxv = item[1][code]\n",
    "    print(minv,maxv)\n",
    "    return median_ages\n",
    "\n",
    "overall_avg = 33.85\n",
    "def gen_map(median_ages):\n",
    "    with open('drawing.svg') as f:\n",
    "        doc = etree.fromstring(f.read().encode('utf-8'))\n",
    "    for item in doc[3]:\n",
    "        if 'style' in item.attrib and 'fill:#d0d0d0' in item.attrib['style'] and item.attrib['id'] in median_ages:\n",
    "            avg_age = median_ages[item.attrib['id']]\n",
    "            r = 'd0'\n",
    "            g = 'd0'\n",
    "            b = 'd0'\n",
    "            if avg_age - overall_avg > 1:\n",
    "                r = 'f0'\n",
    "                magnitude = math.ceil(min(6,0.5*(avg_age - overall_avg)))\n",
    "                shadow = str(hex(13 - magnitude))[2:]\n",
    "                g = shadow + g[1:]\n",
    "                b = shadow + b[1:]\n",
    "            elif overall_avg - avg_age > 1:\n",
    "                g = 'f0'\n",
    "                magnitude = math.ceil(min(13,0.5*(overall_avg - avg_age)))\n",
    "                shadow = str(hex(13 - magnitude))[2:]\n",
    "                r = shadow + r[1:]\n",
    "                b = shadow + b[1:]\n",
    "            item.attrib['style'] = item.attrib['style'].replace('fill:#d0d0d0', 'fill:#'+r+g+b)\n",
    "    return etree.tostring(doc)\n",
    "\n",
    "def write_map(year, age_map):\n",
    "    with open('median_' + year + '.svg','w') as f:\n",
    "        print(\"Writing\", f.name)\n",
    "        f.write(age_map.decode('utf-8'))\n",
    "    \n",
    "for year in median_age_code:\n",
    "    median_ages = load_median_ages(year)\n",
    "    age_map = gen_map(median_ages)\n",
    "    write_map(year, age_map)"
   ]
  },
  {
   "cell_type": "code",
   "execution_count": null,
   "metadata": {
    "collapsed": true,
    "deletable": true,
    "editable": true
   },
   "outputs": [],
   "source": []
  }
 ],
 "metadata": {
  "kernelspec": {
   "display_name": "Python 3",
   "language": "python",
   "name": "python3"
  },
  "language_info": {
   "codemirror_mode": {
    "name": "ipython",
    "version": 3
   },
   "file_extension": ".py",
   "mimetype": "text/x-python",
   "name": "python",
   "nbconvert_exporter": "python",
   "pygments_lexer": "ipython3",
   "version": "3.5.1"
  }
 },
 "nbformat": 4,
 "nbformat_minor": 2
}
